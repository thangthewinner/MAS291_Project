{
 "cells": [
  {
   "cell_type": "markdown",
   "metadata": {},
   "source": [
    "# MAS291 - Project"
   ]
  },
  {
   "cell_type": "markdown",
   "metadata": {},
   "source": [
    "## Import Libraries"
   ]
  },
  {
   "cell_type": "code",
   "execution_count": 51,
   "metadata": {},
   "outputs": [],
   "source": [
    "import pandas as pd\n",
    "import numpy as np\n",
    "import matplotlib.pyplot as plt\n",
    "import math\n",
    "import seaborn as sns\n",
    "import plotly.express as px\n",
    "import plotly.figure_factory as ff\n",
    "from sklearn.metrics import mean_squared_error, r2_score\n",
    "from sklearn.linear_model import LinearRegression\n",
    "from sklearn.model_selection import train_test_split\n",
    "import warnings\n",
    "warnings.filterwarnings(\"ignore\")"
   ]
  },
  {
   "cell_type": "markdown",
   "metadata": {},
   "source": [
    "## Load Data"
   ]
  },
  {
   "cell_type": "code",
   "execution_count": 52,
   "metadata": {},
   "outputs": [],
   "source": [
    "\n",
    "df = pd.read_csv('./data/project_data/Sleep_Stress.csv')"
   ]
  },
  {
   "cell_type": "code",
   "execution_count": 53,
   "metadata": {},
   "outputs": [
    {
     "data": {
      "text/html": [
       "<div>\n",
       "<style scoped>\n",
       "    .dataframe tbody tr th:only-of-type {\n",
       "        vertical-align: middle;\n",
       "    }\n",
       "\n",
       "    .dataframe tbody tr th {\n",
       "        vertical-align: top;\n",
       "    }\n",
       "\n",
       "    .dataframe thead th {\n",
       "        text-align: right;\n",
       "    }\n",
       "</style>\n",
       "<table border=\"1\" class=\"dataframe\">\n",
       "  <thead>\n",
       "    <tr style=\"text-align: right;\">\n",
       "      <th></th>\n",
       "      <th>ID</th>\n",
       "      <th>Gender</th>\n",
       "      <th>SleepDuration</th>\n",
       "      <th>StressLevel</th>\n",
       "    </tr>\n",
       "  </thead>\n",
       "  <tbody>\n",
       "    <tr>\n",
       "      <th>0</th>\n",
       "      <td>1</td>\n",
       "      <td>Male</td>\n",
       "      <td>6.1</td>\n",
       "      <td>6</td>\n",
       "    </tr>\n",
       "    <tr>\n",
       "      <th>1</th>\n",
       "      <td>2</td>\n",
       "      <td>Male</td>\n",
       "      <td>6.2</td>\n",
       "      <td>8</td>\n",
       "    </tr>\n",
       "    <tr>\n",
       "      <th>2</th>\n",
       "      <td>3</td>\n",
       "      <td>Male</td>\n",
       "      <td>6.2</td>\n",
       "      <td>8</td>\n",
       "    </tr>\n",
       "    <tr>\n",
       "      <th>3</th>\n",
       "      <td>4</td>\n",
       "      <td>Male</td>\n",
       "      <td>5.9</td>\n",
       "      <td>8</td>\n",
       "    </tr>\n",
       "    <tr>\n",
       "      <th>4</th>\n",
       "      <td>5</td>\n",
       "      <td>Male</td>\n",
       "      <td>5.9</td>\n",
       "      <td>8</td>\n",
       "    </tr>\n",
       "    <tr>\n",
       "      <th>...</th>\n",
       "      <td>...</td>\n",
       "      <td>...</td>\n",
       "      <td>...</td>\n",
       "      <td>...</td>\n",
       "    </tr>\n",
       "    <tr>\n",
       "      <th>369</th>\n",
       "      <td>370</td>\n",
       "      <td>Female</td>\n",
       "      <td>8.1</td>\n",
       "      <td>3</td>\n",
       "    </tr>\n",
       "    <tr>\n",
       "      <th>370</th>\n",
       "      <td>371</td>\n",
       "      <td>Female</td>\n",
       "      <td>8.0</td>\n",
       "      <td>3</td>\n",
       "    </tr>\n",
       "    <tr>\n",
       "      <th>371</th>\n",
       "      <td>372</td>\n",
       "      <td>Female</td>\n",
       "      <td>8.1</td>\n",
       "      <td>3</td>\n",
       "    </tr>\n",
       "    <tr>\n",
       "      <th>372</th>\n",
       "      <td>373</td>\n",
       "      <td>Female</td>\n",
       "      <td>8.1</td>\n",
       "      <td>3</td>\n",
       "    </tr>\n",
       "    <tr>\n",
       "      <th>373</th>\n",
       "      <td>374</td>\n",
       "      <td>Female</td>\n",
       "      <td>8.1</td>\n",
       "      <td>3</td>\n",
       "    </tr>\n",
       "  </tbody>\n",
       "</table>\n",
       "<p>374 rows × 4 columns</p>\n",
       "</div>"
      ],
      "text/plain": [
       "      ID  Gender  SleepDuration  StressLevel\n",
       "0      1    Male            6.1            6\n",
       "1      2    Male            6.2            8\n",
       "2      3    Male            6.2            8\n",
       "3      4    Male            5.9            8\n",
       "4      5    Male            5.9            8\n",
       "..   ...     ...            ...          ...\n",
       "369  370  Female            8.1            3\n",
       "370  371  Female            8.0            3\n",
       "371  372  Female            8.1            3\n",
       "372  373  Female            8.1            3\n",
       "373  374  Female            8.1            3\n",
       "\n",
       "[374 rows x 4 columns]"
      ]
     },
     "execution_count": 53,
     "metadata": {},
     "output_type": "execute_result"
    }
   ],
   "source": [
    "df"
   ]
  },
  {
   "cell_type": "code",
   "execution_count": 54,
   "metadata": {},
   "outputs": [
    {
     "data": {
      "text/html": [
       "<div>\n",
       "<style scoped>\n",
       "    .dataframe tbody tr th:only-of-type {\n",
       "        vertical-align: middle;\n",
       "    }\n",
       "\n",
       "    .dataframe tbody tr th {\n",
       "        vertical-align: top;\n",
       "    }\n",
       "\n",
       "    .dataframe thead th {\n",
       "        text-align: right;\n",
       "    }\n",
       "</style>\n",
       "<table border=\"1\" class=\"dataframe\">\n",
       "  <thead>\n",
       "    <tr style=\"text-align: right;\">\n",
       "      <th></th>\n",
       "      <th>SleepDuration</th>\n",
       "      <th>StressLevel</th>\n",
       "    </tr>\n",
       "  </thead>\n",
       "  <tbody>\n",
       "    <tr>\n",
       "      <th>count</th>\n",
       "      <td>374.000000</td>\n",
       "      <td>374.000000</td>\n",
       "    </tr>\n",
       "    <tr>\n",
       "      <th>mean</th>\n",
       "      <td>7.132086</td>\n",
       "      <td>5.385027</td>\n",
       "    </tr>\n",
       "    <tr>\n",
       "      <th>std</th>\n",
       "      <td>0.795657</td>\n",
       "      <td>1.774526</td>\n",
       "    </tr>\n",
       "    <tr>\n",
       "      <th>min</th>\n",
       "      <td>5.800000</td>\n",
       "      <td>3.000000</td>\n",
       "    </tr>\n",
       "    <tr>\n",
       "      <th>25%</th>\n",
       "      <td>6.400000</td>\n",
       "      <td>4.000000</td>\n",
       "    </tr>\n",
       "    <tr>\n",
       "      <th>50%</th>\n",
       "      <td>7.200000</td>\n",
       "      <td>5.000000</td>\n",
       "    </tr>\n",
       "    <tr>\n",
       "      <th>75%</th>\n",
       "      <td>7.800000</td>\n",
       "      <td>7.000000</td>\n",
       "    </tr>\n",
       "    <tr>\n",
       "      <th>max</th>\n",
       "      <td>8.500000</td>\n",
       "      <td>8.000000</td>\n",
       "    </tr>\n",
       "  </tbody>\n",
       "</table>\n",
       "</div>"
      ],
      "text/plain": [
       "       SleepDuration  StressLevel\n",
       "count     374.000000   374.000000\n",
       "mean        7.132086     5.385027\n",
       "std         0.795657     1.774526\n",
       "min         5.800000     3.000000\n",
       "25%         6.400000     4.000000\n",
       "50%         7.200000     5.000000\n",
       "75%         7.800000     7.000000\n",
       "max         8.500000     8.000000"
      ]
     },
     "execution_count": 54,
     "metadata": {},
     "output_type": "execute_result"
    }
   ],
   "source": [
    "df[['SleepDuration', 'StressLevel']].describe()"
   ]
  },
  {
   "cell_type": "markdown",
   "metadata": {},
   "source": [
    "## Solving Problems"
   ]
  },
  {
   "cell_type": "markdown",
   "metadata": {},
   "source": [
    "### Question 1.1: Test a hypothesis and construct a confidence interval for the mean of a population.\n",
    "Can we conclude that the average sleep duration is 7 hours?"
   ]
  },
  {
   "cell_type": "code",
   "execution_count": 55,
   "metadata": {},
   "outputs": [
    {
     "data": {
      "text/plain": [
       "0    6.1\n",
       "1    6.2\n",
       "2    6.2\n",
       "3    5.9\n",
       "4    5.9\n",
       "5    5.9\n",
       "6    6.3\n",
       "7    7.8\n",
       "8    7.8\n",
       "9    7.8\n",
       "Name: SleepDuration, dtype: float64"
      ]
     },
     "execution_count": 55,
     "metadata": {},
     "output_type": "execute_result"
    }
   ],
   "source": [
    "sleep_duration = df['SleepDuration'][:10]\n",
    "sleep_duration"
   ]
  },
  {
   "cell_type": "code",
   "execution_count": 56,
   "metadata": {},
   "outputs": [
    {
     "name": "stdout",
     "output_type": "stream",
     "text": [
      "n: 10\n",
      "x: 6.59\n",
      "s^2: 0.717\n",
      "s: 0.846\n"
     ]
    }
   ],
   "source": [
    "sample_size = len(sleep_duration)\n",
    "\n",
    "sample_mean = round(sum(sleep_duration) / sample_size,3)\n",
    "\n",
    "squared_diff_sum = sum([(x - sample_mean) ** 2 for x in sleep_duration])\n",
    "sample_variance = squared_diff_sum / (sample_size - 1)\n",
    "sample_std = round(math.sqrt(sample_variance),3)\n",
    "print('n:', sample_size)\n",
    "print('x:', sample_mean)\n",
    "print('s^2:', round(sample_variance, 3))\n",
    "print('s:', sample_std)"
   ]
  },
  {
   "cell_type": "markdown",
   "metadata": {},
   "source": [
    "$\n",
    "\\overline{x} = \\frac{6.1 + 6.2 + 6.2 + 5.9 + 5.9 + 5.9 + 6.3 + 7.8 + 7.8 + 7.8}{10} \\approx 6.59\n",
    "$\n",
    "\n",
    "$\n",
    "s^2 = \\frac{(6.1 - \\overline{x})^2 + (6.2 - \\overline{x})^2 + (6.2 - \\overline{x})^2 + (5.9 - \\overline{x})^2 + (5.9 - \\overline{x})^2 + (5.9 - \\overline{x})^2 + (6.3 - \\overline{x})^2 + (7.8 - \\overline{x})^2 + (7.8 - \\overline{x})^2 + (7.8 - \\overline{x})^2}{10-1}\\approx 0.717 \\Rightarrow s \\approx 0.846\n",
    "$"
   ]
  },
  {
   "cell_type": "code",
   "execution_count": 57,
   "metadata": {},
   "outputs": [
    {
     "data": {
      "text/plain": [
       "-1.5325459109563073"
      ]
     },
     "execution_count": 57,
     "metadata": {},
     "output_type": "execute_result"
    }
   ],
   "source": [
    "t = (sample_mean-7)/(sample_std/math.sqrt(sample_size))\n",
    "t"
   ]
  },
  {
   "cell_type": "markdown",
   "metadata": {},
   "source": [
    "We have test statistics:\n",
    "\n",
    "$\n",
    "T_0 = \\frac{\\overline{X} - \\mu_0}{s / \\sqrt{n}} = \\frac{6.59 - 7}{0.846 / \\sqrt{10}} \\approx -1.532\n",
    "$\n"
   ]
  },
  {
   "cell_type": "markdown",
   "metadata": {},
   "source": [
    "${\\alpha = 1-0.95, \\text{df} = 9}$ $\\Rightarrow t_{\\alpha, n-1} = t_{0.05, 9} \\approx 1.833$\n"
   ]
  },
  {
   "cell_type": "markdown",
   "metadata": {},
   "source": [
    "Since the value $T_{0} = -1,532$ < $t_{\\alpha, n-1} = 1,833$, we fail to reject the hypothesis $H_{0}$ with a significance level of 0.05. "
   ]
  },
  {
   "cell_type": "markdown",
   "metadata": {},
   "source": [
    "The 95% confident interval: \\\n",
    "$\\bar{X} \\pm t_{\\alpha/2, n-1} \\cdot \\frac{s}{\\sqrt{n}}$\n",
    "\n",
    "$6.59 \\pm 1.833 \\cdot \\frac{0.846}{\\sqrt{10}}$\n",
    "\n",
    "$(6.09,7.08)$\n",
    "\n",
    "The 95% confidence interval for the population mean shows that the population mean sleep time ranges from 6.09 to 7.08 hours."
   ]
  },
  {
   "cell_type": "markdown",
   "metadata": {},
   "source": [
    "### Question 1.2: Test a hypothesis and construct a confidence interval for the propotion of a population."
   ]
  },
  {
   "cell_type": "markdown",
   "metadata": {},
   "source": [
    "Is there the proportion of people with sleep duration > 7 hours is higher than 50%"
   ]
  },
  {
   "cell_type": "markdown",
   "metadata": {},
   "source": [
    "$H_0$: p = 0.5\n",
    "\n",
    "$H_1$: p > 0.5"
   ]
  },
  {
   "cell_type": "code",
   "execution_count": 58,
   "metadata": {},
   "outputs": [
    {
     "data": {
      "text/plain": [
       "100"
      ]
     },
     "execution_count": 58,
     "metadata": {},
     "output_type": "execute_result"
    }
   ],
   "source": [
    "sample_df = df.sample(n=100, random_state=113)\n",
    "n = len(sample_df)\n",
    "n"
   ]
  },
  {
   "cell_type": "code",
   "execution_count": 59,
   "metadata": {},
   "outputs": [
    {
     "data": {
      "text/plain": [
       "60"
      ]
     },
     "execution_count": 59,
     "metadata": {},
     "output_type": "execute_result"
    }
   ],
   "source": [
    "x = sample_df[sample_df['SleepDuration'] > 7].shape[0]\n",
    "x"
   ]
  },
  {
   "cell_type": "code",
   "execution_count": 60,
   "metadata": {},
   "outputs": [
    {
     "data": {
      "text/plain": [
       "0.6"
      ]
     },
     "execution_count": 60,
     "metadata": {},
     "output_type": "execute_result"
    }
   ],
   "source": [
    "p = x / n\n",
    "p"
   ]
  },
  {
   "cell_type": "code",
   "execution_count": 61,
   "metadata": {},
   "outputs": [
    {
     "data": {
      "text/plain": [
       "1.9999999999999996"
      ]
     },
     "execution_count": 61,
     "metadata": {},
     "output_type": "execute_result"
    }
   ],
   "source": [
    "z = (p - 0.5) / math.sqrt((0.5 * (1 - 0.5)) / n)\n",
    "z "
   ]
  },
  {
   "cell_type": "markdown",
   "metadata": {},
   "source": [
    "Compare the z-value to the critical z-value $z_{\\alpha/2} \\approx 1.645$ for a significance level $\\alpha = 0.05$.  Since z-value is greater than 1.645 so we reject $H_0$\n",
    "\n",
    "Therefore, there is sufficient evidence to conclude that the proportion of people with sleep duration > 7 hours is higher than 50%"
   ]
  },
  {
   "cell_type": "markdown",
   "metadata": {},
   "source": [
    "With $\\alpha = 0.05$, we have $z_{\\alpha/2} \\approx 1.96$\n",
    "\n",
    "Confidence Interval:\n",
    "\n",
    "$CI = \\hat{p} \\pm z_{\\alpha/2}\\sqrt{\\frac{\\hat{p}(1-\\hat{p})}{n}}$ \n",
    "\n",
    "$CI \\approx (0.5, 0.69)$\n"
   ]
  },
  {
   "cell_type": "markdown",
   "metadata": {},
   "source": [
    "### Question 2.1: Test a hypothesis and construct a confidence interval for the difference in mean of two populations.\n",
    "Is there a significant difference in the mean stress level greater than 6 between males and females?"
   ]
  },
  {
   "cell_type": "code",
   "execution_count": 62,
   "metadata": {},
   "outputs": [],
   "source": [
    "male_df = df[df['Gender'] == 'Male']\n",
    "female_df = df[df['Gender'] == 'Female']"
   ]
  },
  {
   "cell_type": "markdown",
   "metadata": {},
   "source": [
    "Suppose we have:\n",
    "- $n_1$: 15 males have Stresslevel > 6\n",
    "- $n_2$: 15 females have Stresslevel > 6"
   ]
  },
  {
   "cell_type": "code",
   "execution_count": 63,
   "metadata": {},
   "outputs": [
    {
     "data": {
      "text/html": [
       "<div>\n",
       "<style scoped>\n",
       "    .dataframe tbody tr th:only-of-type {\n",
       "        vertical-align: middle;\n",
       "    }\n",
       "\n",
       "    .dataframe tbody tr th {\n",
       "        vertical-align: top;\n",
       "    }\n",
       "\n",
       "    .dataframe thead th {\n",
       "        text-align: right;\n",
       "    }\n",
       "</style>\n",
       "<table border=\"1\" class=\"dataframe\">\n",
       "  <thead>\n",
       "    <tr style=\"text-align: right;\">\n",
       "      <th></th>\n",
       "      <th>ID</th>\n",
       "      <th>Gender</th>\n",
       "      <th>SleepDuration</th>\n",
       "      <th>StressLevel</th>\n",
       "    </tr>\n",
       "  </thead>\n",
       "  <tbody>\n",
       "    <tr>\n",
       "      <th>219</th>\n",
       "      <td>220</td>\n",
       "      <td>Male</td>\n",
       "      <td>6.5</td>\n",
       "      <td>7</td>\n",
       "    </tr>\n",
       "    <tr>\n",
       "      <th>58</th>\n",
       "      <td>59</td>\n",
       "      <td>Male</td>\n",
       "      <td>6.0</td>\n",
       "      <td>8</td>\n",
       "    </tr>\n",
       "    <tr>\n",
       "      <th>36</th>\n",
       "      <td>37</td>\n",
       "      <td>Male</td>\n",
       "      <td>6.1</td>\n",
       "      <td>8</td>\n",
       "    </tr>\n",
       "    <tr>\n",
       "      <th>233</th>\n",
       "      <td>234</td>\n",
       "      <td>Male</td>\n",
       "      <td>6.3</td>\n",
       "      <td>7</td>\n",
       "    </tr>\n",
       "    <tr>\n",
       "      <th>75</th>\n",
       "      <td>76</td>\n",
       "      <td>Male</td>\n",
       "      <td>6.0</td>\n",
       "      <td>8</td>\n",
       "    </tr>\n",
       "    <tr>\n",
       "      <th>192</th>\n",
       "      <td>193</td>\n",
       "      <td>Male</td>\n",
       "      <td>6.5</td>\n",
       "      <td>7</td>\n",
       "    </tr>\n",
       "    <tr>\n",
       "      <th>64</th>\n",
       "      <td>65</td>\n",
       "      <td>Male</td>\n",
       "      <td>6.2</td>\n",
       "      <td>8</td>\n",
       "    </tr>\n",
       "    <tr>\n",
       "      <th>247</th>\n",
       "      <td>248</td>\n",
       "      <td>Male</td>\n",
       "      <td>6.8</td>\n",
       "      <td>7</td>\n",
       "    </tr>\n",
       "    <tr>\n",
       "      <th>72</th>\n",
       "      <td>73</td>\n",
       "      <td>Male</td>\n",
       "      <td>6.1</td>\n",
       "      <td>8</td>\n",
       "    </tr>\n",
       "    <tr>\n",
       "      <th>147</th>\n",
       "      <td>148</td>\n",
       "      <td>Male</td>\n",
       "      <td>6.5</td>\n",
       "      <td>7</td>\n",
       "    </tr>\n",
       "    <tr>\n",
       "      <th>246</th>\n",
       "      <td>247</td>\n",
       "      <td>Male</td>\n",
       "      <td>6.3</td>\n",
       "      <td>7</td>\n",
       "    </tr>\n",
       "    <tr>\n",
       "      <th>15</th>\n",
       "      <td>16</td>\n",
       "      <td>Male</td>\n",
       "      <td>6.0</td>\n",
       "      <td>8</td>\n",
       "    </tr>\n",
       "    <tr>\n",
       "      <th>248</th>\n",
       "      <td>249</td>\n",
       "      <td>Male</td>\n",
       "      <td>6.4</td>\n",
       "      <td>7</td>\n",
       "    </tr>\n",
       "    <tr>\n",
       "      <th>10</th>\n",
       "      <td>11</td>\n",
       "      <td>Male</td>\n",
       "      <td>6.1</td>\n",
       "      <td>8</td>\n",
       "    </tr>\n",
       "    <tr>\n",
       "      <th>177</th>\n",
       "      <td>178</td>\n",
       "      <td>Male</td>\n",
       "      <td>6.5</td>\n",
       "      <td>7</td>\n",
       "    </tr>\n",
       "  </tbody>\n",
       "</table>\n",
       "</div>"
      ],
      "text/plain": [
       "      ID Gender  SleepDuration  StressLevel\n",
       "219  220   Male            6.5            7\n",
       "58    59   Male            6.0            8\n",
       "36    37   Male            6.1            8\n",
       "233  234   Male            6.3            7\n",
       "75    76   Male            6.0            8\n",
       "192  193   Male            6.5            7\n",
       "64    65   Male            6.2            8\n",
       "247  248   Male            6.8            7\n",
       "72    73   Male            6.1            8\n",
       "147  148   Male            6.5            7\n",
       "246  247   Male            6.3            7\n",
       "15    16   Male            6.0            8\n",
       "248  249   Male            6.4            7\n",
       "10    11   Male            6.1            8\n",
       "177  178   Male            6.5            7"
      ]
     },
     "execution_count": 63,
     "metadata": {},
     "output_type": "execute_result"
    }
   ],
   "source": [
    "n1 = male_df[male_df['StressLevel'] > 6].sample(n=15, random_state=113)\n",
    "n1"
   ]
  },
  {
   "cell_type": "code",
   "execution_count": 64,
   "metadata": {},
   "outputs": [
    {
     "data": {
      "text/html": [
       "<div>\n",
       "<style scoped>\n",
       "    .dataframe tbody tr th:only-of-type {\n",
       "        vertical-align: middle;\n",
       "    }\n",
       "\n",
       "    .dataframe tbody tr th {\n",
       "        vertical-align: top;\n",
       "    }\n",
       "\n",
       "    .dataframe thead th {\n",
       "        text-align: right;\n",
       "    }\n",
       "</style>\n",
       "<table border=\"1\" class=\"dataframe\">\n",
       "  <thead>\n",
       "    <tr style=\"text-align: right;\">\n",
       "      <th></th>\n",
       "      <th>ID</th>\n",
       "      <th>Gender</th>\n",
       "      <th>SleepDuration</th>\n",
       "      <th>StressLevel</th>\n",
       "    </tr>\n",
       "  </thead>\n",
       "  <tbody>\n",
       "    <tr>\n",
       "      <th>273</th>\n",
       "      <td>274</td>\n",
       "      <td>Female</td>\n",
       "      <td>6.2</td>\n",
       "      <td>8</td>\n",
       "    </tr>\n",
       "    <tr>\n",
       "      <th>297</th>\n",
       "      <td>298</td>\n",
       "      <td>Female</td>\n",
       "      <td>6.1</td>\n",
       "      <td>8</td>\n",
       "    </tr>\n",
       "    <tr>\n",
       "      <th>16</th>\n",
       "      <td>17</td>\n",
       "      <td>Female</td>\n",
       "      <td>6.5</td>\n",
       "      <td>7</td>\n",
       "    </tr>\n",
       "    <tr>\n",
       "      <th>304</th>\n",
       "      <td>305</td>\n",
       "      <td>Female</td>\n",
       "      <td>6.1</td>\n",
       "      <td>8</td>\n",
       "    </tr>\n",
       "    <tr>\n",
       "      <th>184</th>\n",
       "      <td>185</td>\n",
       "      <td>Female</td>\n",
       "      <td>6.8</td>\n",
       "      <td>7</td>\n",
       "    </tr>\n",
       "    <tr>\n",
       "      <th>270</th>\n",
       "      <td>271</td>\n",
       "      <td>Female</td>\n",
       "      <td>6.1</td>\n",
       "      <td>8</td>\n",
       "    </tr>\n",
       "    <tr>\n",
       "      <th>271</th>\n",
       "      <td>272</td>\n",
       "      <td>Female</td>\n",
       "      <td>6.1</td>\n",
       "      <td>8</td>\n",
       "    </tr>\n",
       "    <tr>\n",
       "      <th>308</th>\n",
       "      <td>309</td>\n",
       "      <td>Female</td>\n",
       "      <td>6.6</td>\n",
       "      <td>7</td>\n",
       "    </tr>\n",
       "    <tr>\n",
       "      <th>288</th>\n",
       "      <td>289</td>\n",
       "      <td>Female</td>\n",
       "      <td>6.0</td>\n",
       "      <td>8</td>\n",
       "    </tr>\n",
       "    <tr>\n",
       "      <th>267</th>\n",
       "      <td>268</td>\n",
       "      <td>Female</td>\n",
       "      <td>6.2</td>\n",
       "      <td>8</td>\n",
       "    </tr>\n",
       "    <tr>\n",
       "      <th>265</th>\n",
       "      <td>266</td>\n",
       "      <td>Female</td>\n",
       "      <td>5.9</td>\n",
       "      <td>8</td>\n",
       "    </tr>\n",
       "    <tr>\n",
       "      <th>296</th>\n",
       "      <td>297</td>\n",
       "      <td>Female</td>\n",
       "      <td>6.1</td>\n",
       "      <td>8</td>\n",
       "    </tr>\n",
       "    <tr>\n",
       "      <th>285</th>\n",
       "      <td>286</td>\n",
       "      <td>Female</td>\n",
       "      <td>6.0</td>\n",
       "      <td>8</td>\n",
       "    </tr>\n",
       "    <tr>\n",
       "      <th>275</th>\n",
       "      <td>276</td>\n",
       "      <td>Female</td>\n",
       "      <td>6.2</td>\n",
       "      <td>8</td>\n",
       "    </tr>\n",
       "    <tr>\n",
       "      <th>278</th>\n",
       "      <td>279</td>\n",
       "      <td>Female</td>\n",
       "      <td>6.1</td>\n",
       "      <td>8</td>\n",
       "    </tr>\n",
       "  </tbody>\n",
       "</table>\n",
       "</div>"
      ],
      "text/plain": [
       "      ID  Gender  SleepDuration  StressLevel\n",
       "273  274  Female            6.2            8\n",
       "297  298  Female            6.1            8\n",
       "16    17  Female            6.5            7\n",
       "304  305  Female            6.1            8\n",
       "184  185  Female            6.8            7\n",
       "270  271  Female            6.1            8\n",
       "271  272  Female            6.1            8\n",
       "308  309  Female            6.6            7\n",
       "288  289  Female            6.0            8\n",
       "267  268  Female            6.2            8\n",
       "265  266  Female            5.9            8\n",
       "296  297  Female            6.1            8\n",
       "285  286  Female            6.0            8\n",
       "275  276  Female            6.2            8\n",
       "278  279  Female            6.1            8"
      ]
     },
     "execution_count": 64,
     "metadata": {},
     "output_type": "execute_result"
    }
   ],
   "source": [
    "n2=female_df[female_df['StressLevel'] > 6].sample(n=15, random_state=113)\n",
    "n2"
   ]
  },
  {
   "cell_type": "markdown",
   "metadata": {},
   "source": [
    "##### Hypothesis Testing\n",
    "- $H_0: µ_1 - µ_2 = Δ_0$\n",
    "- $H_1: µ_1-µ_2 \\ne Δ_0$"
   ]
  },
  {
   "cell_type": "markdown",
   "metadata": {},
   "source": [
    "Find mean and sample variance\n",
    "\n",
    "Mean:\n",
    "$$ \\bar{x} = \\frac{\\sum_{i=1}^{n} x_i}{n} $$\n",
    "Sample Variance:\n",
    "$$ s^2 = \\frac{1}{n-1} \\sum_{i=1}^{n} (x_i - \\bar{x})^2 $$"
   ]
  },
  {
   "cell_type": "code",
   "execution_count": 65,
   "metadata": {},
   "outputs": [
    {
     "data": {
      "text/plain": [
       "(6.29, 0.06, 6.2, 0.06)"
      ]
     },
     "execution_count": 65,
     "metadata": {},
     "output_type": "execute_result"
    }
   ],
   "source": [
    "# Calculate mean and variance for each sample\n",
    "male_mean = round(n1['SleepDuration'].mean(), 2)\n",
    "male_s = round(n1['SleepDuration'].var(ddof=1), 2) \n",
    "female_mean = round(n2['SleepDuration'].mean(), 2)\n",
    "female_s = round(n2['SleepDuration'].var(ddof=1), 2)\n",
    "\n",
    "male_mean, male_s, female_mean, female_s"
   ]
  },
  {
   "cell_type": "markdown",
   "metadata": {},
   "source": [
    "Find pooled variance:\n",
    "$$ s_p = \\sqrt{\\frac{{s_{1}^2 \\cdot (n_{1}-1) + s_{2}^2 \\cdot (n_{2}-1)}}{{n_{1} + n_{2} - 2}}} $$"
   ]
  },
  {
   "cell_type": "code",
   "execution_count": 66,
   "metadata": {},
   "outputs": [
    {
     "data": {
      "text/plain": [
       "0.06"
      ]
     },
     "execution_count": 66,
     "metadata": {},
     "output_type": "execute_result"
    }
   ],
   "source": [
    "pooled_se = np.sqrt((male_s**2*(len(n1['SleepDuration'])-1) + female_s**2*(len(n2['SleepDuration'])-1)) / (len(n1['SleepDuration'])+len(n2['SleepDuration'])-2))\n",
    "pooled_se = round(pooled_se, 2)\n",
    "\n",
    "pooled_se"
   ]
  },
  {
   "cell_type": "markdown",
   "metadata": {},
   "source": [
    "Test statistic:\n",
    "$$ t_0 = \\frac{{\\bar{x}_{1} - \\bar{x}_{2}-\\Delta_0}}{{s_{\\text{p}} \\cdot \\sqrt{\\frac{1}{n_{1}} + \\frac{1}{n_{2}}}}} $$"
   ]
  },
  {
   "cell_type": "code",
   "execution_count": 67,
   "metadata": {},
   "outputs": [
    {
     "data": {
      "text/plain": [
       "4.11"
      ]
     },
     "execution_count": 67,
     "metadata": {},
     "output_type": "execute_result"
    }
   ],
   "source": [
    "t_stat = (male_mean - female_mean) / ((pooled_se*np.sqrt(1/len(n1['SleepDuration']) + 1/len(n2['SleepDuration']))))\n",
    "t_stat = t_stat.round(2)\n",
    "\n",
    "t_stat"
   ]
  },
  {
   "cell_type": "markdown",
   "metadata": {},
   "source": [
    "We have: $ t_\\text{α/2,df} = t_\\text{0.025,28} = 2.048 $ ( with df= $n_1+n_2-2$).\n",
    "\n",
    "Since $t_0$ > 2.048. Therefore, we reject the null hypothesis $H_0$. There is a significant difference in the mean sleep duration between males and females with\n",
    "stress level > 6.\n"
   ]
  },
  {
   "cell_type": "markdown",
   "metadata": {},
   "source": [
    "##### Construct a 95% confidence interval"
   ]
  },
  {
   "cell_type": "markdown",
   "metadata": {},
   "source": [
    "The 95% confidence interval for the difference in mean between the two populations is calculated as:\n",
    "\n",
    "$\\bar{x}_1 - \\bar{x}_2 - t_{\\alpha/2,df} \\cdot \\sqrt{\\frac{s_p^2}{n_1} + \\frac{s_p^2}{n_2}} \\leq \\mu_1 - \\mu_2 \\leq \\bar{x}_1 - \\bar{x}_2 + t_{\\alpha/2,df} \\cdot \\sqrt{\\frac{s_p^2}{n_1} + \\frac{s_p^2}{n_2}}$"
   ]
  },
  {
   "cell_type": "code",
   "execution_count": 68,
   "metadata": {},
   "outputs": [
    {
     "data": {
      "text/plain": [
       "(-0.66, 0.84)"
      ]
     },
     "execution_count": 68,
     "metadata": {},
     "output_type": "execute_result"
    }
   ],
   "source": [
    "interval= [male_mean - female_mean - 2.048*np.sqrt(1/len(n1['StressLevel']) + 1/len(n2['StressLevel'])), male_mean - female_mean + 2.048*np.sqrt(1/len(n1['StressLevel']) + 1/len(n2['StressLevel']))]\n",
    "interval = round(interval[0], 2), round(interval[1], 2)\n",
    "interval"
   ]
  },
  {
   "cell_type": "markdown",
   "metadata": {},
   "source": [
    "### Question 2.2: Test a hypothesis and construct a confidence interval for the difference in proportions of two populations.\n",
    "The difference in the proportion of people with StressLevel > 6 between males and females"
   ]
  },
  {
   "cell_type": "markdown",
   "metadata": {},
   "source": [
    "Suppose we have:\n",
    "- n1: Total number of males\n",
    "- n2: Total number of females\n",
    "- x1: Number of males with StressLevel > 6\n",
    "- x2: Number of females with StressLevel > 6"
   ]
  },
  {
   "cell_type": "code",
   "execution_count": 69,
   "metadata": {},
   "outputs": [
    {
     "name": "stdout",
     "output_type": "stream",
     "text": [
      "n1: 60\n",
      "n2: 50\n"
     ]
    }
   ],
   "source": [
    "male_df = df[df['Gender']=='Male'].sample(n=60, random_state=113)\n",
    "female_df = df[df['Gender']=='Female'].sample(n=50, random_state=113)\n",
    "n1 = male_df.shape[0]\n",
    "n2 = female_df.shape[0]\n",
    "print('n1:', n1)\n",
    "print('n2:', n2)"
   ]
  },
  {
   "cell_type": "code",
   "execution_count": 70,
   "metadata": {},
   "outputs": [
    {
     "name": "stdout",
     "output_type": "stream",
     "text": [
      "x1: 24\n",
      "x2: 15\n"
     ]
    }
   ],
   "source": [
    "highst_male = male_df[male_df['StressLevel']>6]\n",
    "highst_female = female_df[female_df['StressLevel']>6]\n",
    "x1 = highst_male.shape[0]\n",
    "x2 = highst_female.shape[0]\n",
    "print('x1:', x1)\n",
    "print('x2:', x2)"
   ]
  },
  {
   "cell_type": "markdown",
   "metadata": {},
   "source": [
    "The proportion of people with StressLevel > 6 for each gender is calculated as follows: \\\n",
    "$\\hat{p_1} = \\frac{x_1}{n_1} = \\frac{74}{189} \\approx 0.392 $ \\\n",
    "$\\hat{p_2} = \\frac{x_2}{n_2} = \\frac{46}{185} \\approx 0.249 $ \n",
    "\n",
    "- $\\hat{p_1}$ is the proportion of people with StressLevel > 6 in the male sample\n",
    "- $\\hat{p_2}$ is the proportion of people with StressLevel > 6 in the female sample"
   ]
  },
  {
   "cell_type": "code",
   "execution_count": 71,
   "metadata": {},
   "outputs": [
    {
     "name": "stdout",
     "output_type": "stream",
     "text": [
      "p1: 0.4\n",
      "p2: 0.3\n"
     ]
    }
   ],
   "source": [
    "p1 = round(x1/n1, 3)\n",
    "p2 = round(x2/n2, 3)\n",
    "print('p1:', p1)\n",
    "print('p2:', p2)"
   ]
  },
  {
   "cell_type": "markdown",
   "metadata": {},
   "source": [
    "Hypothesis Testing\n",
    "- $H_0: p_1 = p_2$\n",
    "- $H_1: p_1 \\ne p_2$"
   ]
  },
  {
   "cell_type": "markdown",
   "metadata": {},
   "source": [
    "Calculate $\\hat{p}$: \\\n",
    "$\\hat{p} = \\frac{x_1 + x_2}{n_1 + n_2} = \\frac{74+46}{189+185} \\approx 0.321$\n",
    "\n",
    "- $\\hat{p}$ is the pooled proportion estimate from both samples"
   ]
  },
  {
   "cell_type": "code",
   "execution_count": 72,
   "metadata": {},
   "outputs": [
    {
     "data": {
      "text/plain": [
       "0.355"
      ]
     },
     "execution_count": 72,
     "metadata": {},
     "output_type": "execute_result"
    }
   ],
   "source": [
    "p = round((x1+x2)/(n1+n2), 3)\n",
    "p"
   ]
  },
  {
   "cell_type": "markdown",
   "metadata": {},
   "source": [
    "Calculate z-value :\n",
    "$z = \\frac{\\hat{p_1}-\\hat{p_2}}{\\sqrt{\\hat{p}(1-\\hat{p})(\\frac{1}{n_1}+\\frac{1}{n_2})}} = \\frac{0.392-0.249}{\\sqrt{0.321(1-0.321)(\\frac{1}{189}+\\frac{1}{185})}} \\approx 2.962$"
   ]
  },
  {
   "cell_type": "code",
   "execution_count": 73,
   "metadata": {},
   "outputs": [
    {
     "data": {
      "text/plain": [
       "1.091"
      ]
     },
     "execution_count": 73,
     "metadata": {},
     "output_type": "execute_result"
    }
   ],
   "source": [
    "z = round((p1-p2)/(math.sqrt(p*(1-p)*(1/n1 + 1/n2))), 3)\n",
    "z"
   ]
  },
  {
   "cell_type": "code",
   "execution_count": 74,
   "metadata": {},
   "outputs": [
    {
     "data": {
      "text/plain": [
       "(-0.0775, 0.2775)"
      ]
     },
     "execution_count": 74,
     "metadata": {},
     "output_type": "execute_result"
    }
   ],
   "source": [
    "interval = [\n",
    "    (p1 - p2) - 1.96 * np.sqrt((p1 * (1 - p1) / n1) + (p2 * (1 - p2) / n2)),\n",
    "    (p1 - p2) + 1.96 * np.sqrt((p1 * (1 - p1) / n1) + (p2 * (1 - p2) / n2))\n",
    "]\n",
    "\n",
    "interval = round(interval[0], 4), round(interval[1], 4)\n",
    "interval"
   ]
  },
  {
   "cell_type": "markdown",
   "metadata": {},
   "source": [
    "Compare the z-value to the critical z-value $z_{\\alpha/2} \\approx 1.96$ for a significance leval $\\alpha = 0.05$. Since our z-value is greater than 1.96, we reject the null hypothesis $H_0$|"
   ]
  },
  {
   "cell_type": "markdown",
   "metadata": {},
   "source": [
    "Construct a 95% Confidence Interval"
   ]
  },
  {
   "cell_type": "markdown",
   "metadata": {},
   "source": [
    "The 95% confidence interval for the difference in proportions between the two populations is calculated as: \\\n",
    "$(\\hat{p_1} - \\hat{p_2}) \\pm z_{\\alpha/2} \\times \\sqrt{\\frac{\\hat{p_1}(1-\\hat{p_1})}{n_1} + \\frac{\\hat{p_2}(1-\\hat{p_2})}{n_2}}$ \n",
    "\n",
    "\n",
    "$(-0.077,0.277)$"
   ]
  },
  {
   "cell_type": "markdown",
   "metadata": {},
   "source": [
    "### Question 3: Regression analysis"
   ]
  },
  {
   "cell_type": "markdown",
   "metadata": {},
   "source": [
    "### Create scatter diagram \n",
    "- Random variable X = Sleep Duration and Y = Stress level"
   ]
  },
  {
   "cell_type": "code",
   "execution_count": 75,
   "metadata": {},
   "outputs": [
    {
     "data": {
      "text/plain": [
       "<matplotlib.collections.PathCollection at 0x23a7df70510>"
      ]
     },
     "execution_count": 75,
     "metadata": {},
     "output_type": "execute_result"
    },
    {
     "data": {
      "image/png": "[encoded data removed]",
      "text/plain": [
       "<Figure size 640x480 with 1 Axes>"
      ]
     },
     "metadata": {},
     "output_type": "display_data"
    }
   ],
   "source": [
    "plt.scatter(y=df['StressLevel'],x=df['SleepDuration'])"
   ]
  },
  {
   "cell_type": "code",
   "execution_count": 76,
   "metadata": {},
   "outputs": [
    {
     "name": "stdout",
     "output_type": "stream",
     "text": [
      "Mean Squared Error: 0.9112359882288522\n",
      "R-squared: 0.7083360399574772\n"
     ]
    }
   ],
   "source": [
    "X=df[['SleepDuration']]\n",
    "Y=df['StressLevel']\n",
    "X_train, X_test, Y_train, Y_test = train_test_split(X, Y, test_size=0.2, random_state=42)\n",
    "model = LinearRegression()\n",
    "model.fit(X_train,Y_train)\n",
    "\n",
    "Y_pred=model.predict(X_test)\n",
    "# Calculate performance metrics\n",
    "mse = mean_squared_error(Y_test, Y_pred)\n",
    "r2 = r2_score(Y_test, Y_pred)\n",
    "\n",
    "print(f'Mean Squared Error: {mse}')\n",
    "print(f'R-squared: {r2}')"
   ]
  },
  {
   "cell_type": "code",
   "execution_count": 77,
   "metadata": {},
   "outputs": [
    {
     "name": "stdout",
     "output_type": "stream",
     "text": [
      "Predicted Stress Level for Sleep Duration of 9.2: 1.6396669306121687\n"
     ]
    }
   ],
   "source": [
    "# Predict a future value (e.g., for sleep_duration = 9.2)\n",
    "future_sleep_duration = 9.2\n",
    "predicted_stress_level = model.predict([[future_sleep_duration]])\n",
    "print(f'Predicted Stress Level for Sleep Duration of {future_sleep_duration}: {predicted_stress_level[0]}')"
   ]
  },
  {
   "cell_type": "code",
   "execution_count": 78,
   "metadata": {},
   "outputs": [],
   "source": [
    "#Khoi tao tham so theta, alpha, epslk\n",
    "def gradient_descent(X,Y,learning_rate=0.01,iterations=15000):\n",
    "  m = X.shape[0]\n",
    "  theta = np.zeros(2)\n",
    "  X_b = np.c_[np.ones((m, 1)), X]  # add x0 = 1 to each instance\n",
    "\n",
    "  for iteration in range(iterations):\n",
    "      gradients = 2/m * X_b.T.dot(X_b.dot(theta) - Y)\n",
    "      theta = theta - learning_rate * gradients\n",
    "\n",
    "  return theta"
   ]
  },
  {
   "cell_type": "markdown",
   "metadata": {},
   "source": [
    "### Best fit line train by all data"
   ]
  },
  {
   "cell_type": "code",
   "execution_count": 79,
   "metadata": {},
   "outputs": [
    {
     "name": "stdout",
     "output_type": "stream",
     "text": [
      "Best fit line: y = -1.7405938644426449X + 17.793168340641966\n"
     ]
    },
    {
     "data": {
      "image/png": "[encoded data removed]",
      "text/plain": [
       "<Figure size 640x480 with 1 Axes>"
      ]
     },
     "metadata": {},
     "output_type": "display_data"
    }
   ],
   "source": [
    "x_vis = np.array([5.5,9])\n",
    "X = np.array(df['SleepDuration'])\n",
    "Y = np.array(df['StressLevel'])\n",
    "theta = gradient_descent(X, Y)\n",
    "y_vis = theta[1]*x_vis + theta[0]\n",
    "print(f\"Best fit line: y = {theta[1]}X + {theta[0]}\")\n",
    "plt.scatter(X,Y,label='Training data')\n",
    "plt.plot(x_vis, y_vis,color='red',linewidth=1,linestyle='-',label='Linear Regression')\n",
    "plt.legend(loc='best')\n",
    "plt.show()"
   ]
  },
  {
   "cell_type": "markdown",
   "metadata": {},
   "source": [
    "### Sampling to test"
   ]
  },
  {
   "cell_type": "code",
   "execution_count": 80,
   "metadata": {},
   "outputs": [
    {
     "data": {
      "text/html": [
       "<div>\n",
       "<style scoped>\n",
       "    .dataframe tbody tr th:only-of-type {\n",
       "        vertical-align: middle;\n",
       "    }\n",
       "\n",
       "    .dataframe tbody tr th {\n",
       "        vertical-align: top;\n",
       "    }\n",
       "\n",
       "    .dataframe thead th {\n",
       "        text-align: right;\n",
       "    }\n",
       "</style>\n",
       "<table border=\"1\" class=\"dataframe\">\n",
       "  <thead>\n",
       "    <tr style=\"text-align: right;\">\n",
       "      <th></th>\n",
       "      <th>SleepDuration</th>\n",
       "      <th>StressLevel</th>\n",
       "    </tr>\n",
       "  </thead>\n",
       "  <tbody>\n",
       "    <tr>\n",
       "      <th>329</th>\n",
       "      <td>8.5</td>\n",
       "      <td>3</td>\n",
       "    </tr>\n",
       "    <tr>\n",
       "      <th>33</th>\n",
       "      <td>6.1</td>\n",
       "      <td>8</td>\n",
       "    </tr>\n",
       "    <tr>\n",
       "      <th>15</th>\n",
       "      <td>6.0</td>\n",
       "      <td>8</td>\n",
       "    </tr>\n",
       "    <tr>\n",
       "      <th>325</th>\n",
       "      <td>8.5</td>\n",
       "      <td>3</td>\n",
       "    </tr>\n",
       "    <tr>\n",
       "      <th>57</th>\n",
       "      <td>6.0</td>\n",
       "      <td>8</td>\n",
       "    </tr>\n",
       "    <tr>\n",
       "      <th>239</th>\n",
       "      <td>6.4</td>\n",
       "      <td>7</td>\n",
       "    </tr>\n",
       "    <tr>\n",
       "      <th>76</th>\n",
       "      <td>6.0</td>\n",
       "      <td>8</td>\n",
       "    </tr>\n",
       "    <tr>\n",
       "      <th>119</th>\n",
       "      <td>7.2</td>\n",
       "      <td>4</td>\n",
       "    </tr>\n",
       "    <tr>\n",
       "      <th>332</th>\n",
       "      <td>8.4</td>\n",
       "      <td>3</td>\n",
       "    </tr>\n",
       "    <tr>\n",
       "      <th>126</th>\n",
       "      <td>7.3</td>\n",
       "      <td>5</td>\n",
       "    </tr>\n",
       "    <tr>\n",
       "      <th>233</th>\n",
       "      <td>6.3</td>\n",
       "      <td>7</td>\n",
       "    </tr>\n",
       "    <tr>\n",
       "      <th>39</th>\n",
       "      <td>7.6</td>\n",
       "      <td>6</td>\n",
       "    </tr>\n",
       "    <tr>\n",
       "      <th>153</th>\n",
       "      <td>7.2</td>\n",
       "      <td>5</td>\n",
       "    </tr>\n",
       "    <tr>\n",
       "      <th>55</th>\n",
       "      <td>6.0</td>\n",
       "      <td>8</td>\n",
       "    </tr>\n",
       "    <tr>\n",
       "      <th>155</th>\n",
       "      <td>7.2</td>\n",
       "      <td>5</td>\n",
       "    </tr>\n",
       "    <tr>\n",
       "      <th>278</th>\n",
       "      <td>6.1</td>\n",
       "      <td>8</td>\n",
       "    </tr>\n",
       "    <tr>\n",
       "      <th>0</th>\n",
       "      <td>6.1</td>\n",
       "      <td>6</td>\n",
       "    </tr>\n",
       "    <tr>\n",
       "      <th>231</th>\n",
       "      <td>6.3</td>\n",
       "      <td>7</td>\n",
       "    </tr>\n",
       "    <tr>\n",
       "      <th>336</th>\n",
       "      <td>8.4</td>\n",
       "      <td>3</td>\n",
       "    </tr>\n",
       "    <tr>\n",
       "      <th>101</th>\n",
       "      <td>7.2</td>\n",
       "      <td>4</td>\n",
       "    </tr>\n",
       "    <tr>\n",
       "      <th>9</th>\n",
       "      <td>7.8</td>\n",
       "      <td>6</td>\n",
       "    </tr>\n",
       "    <tr>\n",
       "      <th>180</th>\n",
       "      <td>7.8</td>\n",
       "      <td>5</td>\n",
       "    </tr>\n",
       "    <tr>\n",
       "      <th>72</th>\n",
       "      <td>6.1</td>\n",
       "      <td>8</td>\n",
       "    </tr>\n",
       "    <tr>\n",
       "      <th>237</th>\n",
       "      <td>6.5</td>\n",
       "      <td>4</td>\n",
       "    </tr>\n",
       "    <tr>\n",
       "      <th>255</th>\n",
       "      <td>6.5</td>\n",
       "      <td>4</td>\n",
       "    </tr>\n",
       "    <tr>\n",
       "      <th>137</th>\n",
       "      <td>7.1</td>\n",
       "      <td>5</td>\n",
       "    </tr>\n",
       "    <tr>\n",
       "      <th>225</th>\n",
       "      <td>6.3</td>\n",
       "      <td>7</td>\n",
       "    </tr>\n",
       "    <tr>\n",
       "      <th>194</th>\n",
       "      <td>6.5</td>\n",
       "      <td>7</td>\n",
       "    </tr>\n",
       "    <tr>\n",
       "      <th>193</th>\n",
       "      <td>6.5</td>\n",
       "      <td>7</td>\n",
       "    </tr>\n",
       "    <tr>\n",
       "      <th>370</th>\n",
       "      <td>8.0</td>\n",
       "      <td>3</td>\n",
       "    </tr>\n",
       "    <tr>\n",
       "      <th>25</th>\n",
       "      <td>7.9</td>\n",
       "      <td>6</td>\n",
       "    </tr>\n",
       "    <tr>\n",
       "      <th>108</th>\n",
       "      <td>7.8</td>\n",
       "      <td>4</td>\n",
       "    </tr>\n",
       "    <tr>\n",
       "      <th>42</th>\n",
       "      <td>7.7</td>\n",
       "      <td>6</td>\n",
       "    </tr>\n",
       "    <tr>\n",
       "      <th>361</th>\n",
       "      <td>8.2</td>\n",
       "      <td>3</td>\n",
       "    </tr>\n",
       "    <tr>\n",
       "      <th>288</th>\n",
       "      <td>6.0</td>\n",
       "      <td>8</td>\n",
       "    </tr>\n",
       "    <tr>\n",
       "      <th>114</th>\n",
       "      <td>7.2</td>\n",
       "      <td>4</td>\n",
       "    </tr>\n",
       "    <tr>\n",
       "      <th>63</th>\n",
       "      <td>6.2</td>\n",
       "      <td>8</td>\n",
       "    </tr>\n",
       "    <tr>\n",
       "      <th>22</th>\n",
       "      <td>7.7</td>\n",
       "      <td>6</td>\n",
       "    </tr>\n",
       "    <tr>\n",
       "      <th>152</th>\n",
       "      <td>7.2</td>\n",
       "      <td>5</td>\n",
       "    </tr>\n",
       "    <tr>\n",
       "      <th>176</th>\n",
       "      <td>7.6</td>\n",
       "      <td>5</td>\n",
       "    </tr>\n",
       "  </tbody>\n",
       "</table>\n",
       "</div>"
      ],
      "text/plain": [
       "     SleepDuration  StressLevel\n",
       "329            8.5            3\n",
       "33             6.1            8\n",
       "15             6.0            8\n",
       "325            8.5            3\n",
       "57             6.0            8\n",
       "239            6.4            7\n",
       "76             6.0            8\n",
       "119            7.2            4\n",
       "332            8.4            3\n",
       "126            7.3            5\n",
       "233            6.3            7\n",
       "39             7.6            6\n",
       "153            7.2            5\n",
       "55             6.0            8\n",
       "155            7.2            5\n",
       "278            6.1            8\n",
       "0              6.1            6\n",
       "231            6.3            7\n",
       "336            8.4            3\n",
       "101            7.2            4\n",
       "9              7.8            6\n",
       "180            7.8            5\n",
       "72             6.1            8\n",
       "237            6.5            4\n",
       "255            6.5            4\n",
       "137            7.1            5\n",
       "225            6.3            7\n",
       "194            6.5            7\n",
       "193            6.5            7\n",
       "370            8.0            3\n",
       "25             7.9            6\n",
       "108            7.8            4\n",
       "42             7.7            6\n",
       "361            8.2            3\n",
       "288            6.0            8\n",
       "114            7.2            4\n",
       "63             6.2            8\n",
       "22             7.7            6\n",
       "152            7.2            5\n",
       "176            7.6            5"
      ]
     },
     "execution_count": 80,
     "metadata": {},
     "output_type": "execute_result"
    }
   ],
   "source": [
    "st = df[['SleepDuration','StressLevel']].sample(n=40,random_state=42) \n",
    "st"
   ]
  },
  {
   "cell_type": "code",
   "execution_count": 81,
   "metadata": {},
   "outputs": [
    {
     "data": {
      "image/png": "[encoded data removed]",
      "text/plain": [
       "<Figure size 1000x600 with 1 Axes>"
      ]
     },
     "metadata": {},
     "output_type": "display_data"
    }
   ],
   "source": [
    "plt.figure(figsize=(10,6))\n",
    "sns.scatterplot(x='SleepDuration',y='StressLevel',data=st)\n",
    "plt.title('Sleep Duration vs Stress Level')\n",
    "plt.show()"
   ]
  },
  {
   "cell_type": "code",
   "execution_count": 82,
   "metadata": {},
   "outputs": [
    {
     "name": "stdout",
     "output_type": "stream",
     "text": [
      "Sample Correlation Coefficient: -0.8196449262336195\n"
     ]
    }
   ],
   "source": [
    "correlation = np.corrcoef(st['SleepDuration'], st['StressLevel'])[0, 1]\n",
    "print(f'Sample Correlation Coefficient: {correlation}')"
   ]
  },
  {
   "cell_type": "code",
   "execution_count": 83,
   "metadata": {},
   "outputs": [
    {
     "name": "stdout",
     "output_type": "stream",
     "text": [
      "Regression Line: Y = -1.6928253302846943X + 17.57968452480253\n"
     ]
    }
   ],
   "source": [
    "# Reshape data for sklearn\n",
    "X = st['SleepDuration'].values\n",
    "Y = st['StressLevel'].values\n",
    "\n",
    "theta = gradient_descent(X, Y)\n",
    "\n",
    "# Get the parameters\n",
    "slope = theta[1]\n",
    "intercept = theta[0]\n",
    "print(f'Regression Line: Y = {slope}X + {intercept}')"
   ]
  },
  {
   "cell_type": "code",
   "execution_count": 87,
   "metadata": {},
   "outputs": [
    {
     "data": {
      "image/png": "[encoded data removed]",
      "text/plain": [
       "<Figure size 1000x600 with 1 Axes>"
      ]
     },
     "metadata": {},
     "output_type": "display_data"
    }
   ],
   "source": [
    "# Plot the data and the regression line\n",
    "plt.figure(figsize=(10, 6))\n",
    "plt.scatter(X, Y, label='Data')\n",
    "plt.plot(X, slope*X + intercept, color='red', label='Regression Line') \n",
    "plt.xlabel('Sleep Duration')\n",
    "plt.ylabel('Stress Level')\n",
    "plt.title('Sleep Duration vs Stress Level')\n",
    "plt.legend()\n",
    "plt.show()"
   ]
  },
  {
   "cell_type": "markdown",
   "metadata": {},
   "source": [
    "### Sample Correlation Coefficient\n",
    "The sample correlation coefficient is calculated as follows:\n",
    "$$\n",
    "r = \\frac{\\sum{(X_i - \\bar{X})(Y_i - \\bar{Y})}}{\\sqrt{\\sum{(X_i - \\bar{X})^2} \\sum{(Y_i - \\bar{Y})^2}}}\n",
    "$$\n",
    "Using the provided data, the sample correlation coefficient is:\n",
    "$$\n",
    "r \\approx -0.819\n",
    "$$\n",
    "\n",
    "### Estimated Regression Line\n",
    "The estimated regression line is found using the linear regression model:\n",
    "$$\n",
    "Y = \\beta_0 + \\beta_1 X\n",
    "$$\n",
    "Where:\n",
    "$$\n",
    "\\beta_1 = \\frac{\\sum{(X_i - \\bar{X})(Y_i - \\bar{Y})}}{\\sum{(X_i - \\bar{X})^2}}\n",
    "$$\n",
    "$$\n",
    "\\beta_0 = \\bar{Y} - \\beta_1 \\bar{X}\n",
    "$$\n",
    "Using the provided data, the estimated regression line is:\n",
    "$$\n",
    "\\hat{Y} = -1.692X + 17.579\n",
    "$$\n"
   ]
  },
  {
   "cell_type": "markdown",
   "metadata": {},
   "source": [
    "### Evalution\n",
    "#### Compare with linear regression model from sklearn"
   ]
  },
  {
   "cell_type": "code",
   "execution_count": 85,
   "metadata": {},
   "outputs": [
    {
     "name": "stdout",
     "output_type": "stream",
     "text": [
      "Manual calculation - Slope: -1.6928253302846943, Intercept: 17.57968452480253\n",
      "Sklearn calculation - Slope: -1.7384852149060137, Intercept: 17.905243486863807\n",
      "{'Manual Slope': -1.6928253302846943, 'sklearn Slope': -1.7384852149060137, 'Manual Intercept': 17.57968452480253, 'sklearn Intercept': 17.905243486863807}\n"
     ]
    }
   ],
   "source": [
    "# Using sklearn\n",
    "model = LinearRegression()\n",
    "X = st['SleepDuration'].values.reshape(-1,1)\n",
    "Y = st['StressLevel'].values\n",
    "model.fit(X, Y)\n",
    "beta_1_sklearn = model.coef_[0]\n",
    "beta_0_sklearn = model.intercept_\n",
    "\n",
    "# Printing the results\n",
    "print(f\"Manual calculation - Slope: {theta[1]}, Intercept: {theta[0]}\")\n",
    "print(f\"Sklearn calculation - Slope: {beta_1_sklearn}, Intercept: {beta_0_sklearn}\")\n",
    "\n",
    "# Comparison\n",
    "comparison = {\n",
    "    \"Manual Slope\": theta[1],\n",
    "    \"sklearn Slope\": beta_1_sklearn,\n",
    "    \"Manual Intercept\": theta[0],\n",
    "    \"sklearn Intercept\": beta_0_sklearn\n",
    "}\n",
    "\n",
    "print(comparison)"
   ]
  },
  {
   "cell_type": "code",
   "execution_count": 86,
   "metadata": {},
   "outputs": [
    {
     "name": "stdout",
     "output_type": "stream",
     "text": [
      "     Actual  Predicted\n",
      "329       3   2.989984\n",
      "33        8   7.124100\n",
      "15        8   7.296355\n",
      "325       3   2.989984\n",
      "57        8   7.296355\n",
      "..      ...        ...\n",
      "94        4   5.229297\n",
      "195       7   6.435081\n",
      "312       3   3.162239\n",
      "292       8   7.124100\n",
      "372       3   3.679004\n",
      "\n",
      "[75 rows x 2 columns]\n",
      "Mean Squared Error: 0.9233445984906291\n",
      "R-squared: 0.7044603751843752\n",
      "Model Accuracy: 70.45%\n"
     ]
    }
   ],
   "source": [
    "X=df[['SleepDuration']]\n",
    "Y=df['StressLevel']\n",
    "X_train, X_test, Y_train, Y_test = train_test_split(X, Y, test_size=0.2, random_state=42)\n",
    "theta = gradient_descent(np.array(X_train), np.array(Y_train))\n",
    "Y_pred= theta[0] + theta[1] * X_test\n",
    "# Create a DataFrame for comparison\n",
    "predictions = pd.DataFrame({'Actual': Y_test, 'Predicted': Y_pred['SleepDuration']})\n",
    "print(predictions)\n",
    "\n",
    "# Calculate performance metrics\n",
    "mse = mean_squared_error(Y_test, Y_pred)\n",
    "r2 = r2_score(Y_test, Y_pred)\n",
    "accuracy_percentage = r2 * 100\n",
    "\n",
    "print(f'Mean Squared Error: {mse}')\n",
    "print(f'R-squared: {r2}')\n",
    "print(f'Model Accuracy: {accuracy_percentage:.2f}%')\n",
    "\n"
   ]
  },
  {
   "cell_type": "code",
   "execution_count": null,
   "metadata": {},
   "outputs": [],
   "source": []
  }
 ],
 "metadata": {
  "kernelspec": {
   "display_name": "Python 3",
   "language": "python",
   "name": "python3"
  },
  "language_info": {
   "codemirror_mode": {
    "name": "ipython",
    "version": 3
   },
   "file_extension": ".py",
   "mimetype": "text/x-python",
   "name": "python",
   "nbconvert_exporter": "python",
   "pygments_lexer": "ipython3",
   "version": "3.11.4"
  }
 },
 "nbformat": 4,
 "nbformat_minor": 2
}
